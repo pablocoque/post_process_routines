{
 "cells": [
  {
   "cell_type": "code",
   "execution_count": 31,
   "metadata": {},
   "outputs": [],
   "source": [
    "import numpy as np\n",
    "from matplotlib import cm\n",
    "import matplotlib.colors as colors\n",
    "import matplotlib.pyplot as plt\n",
    "from loadmodules import *\n",
    "import os"
   ]
  },
  {
   "cell_type": "code",
   "execution_count": 20,
   "metadata": {},
   "outputs": [],
   "source": [
    "def weighted_quantiles(values, weights, quantiles=0.5):\n",
    "    i = np.argsort(values)\n",
    "    c = np.cumsum(weights[i])\n",
    "    return values[i[np.searchsorted(c, np.array(quantiles) * c[-1])]]"
   ]
  },
  {
   "cell_type": "code",
   "execution_count": 56,
   "metadata": {},
   "outputs": [],
   "source": [
    "def get_metallicity_functions(simulation, age_cut=10., nbins=10):\n",
    "    sf = load_subfind(127, dir=simulation+'/output/')\n",
    "    s = gadget_readsnap(127, snappath=simulation+'/output/', subfind=sf, applytransformationfacs=True, hdf5=True, loadonlyhalo=0, loadonlytype=[4])\n",
    "\n",
    "    s.calc_sf_indizes(sf)\n",
    "    rot_matrix = s.select_halo(sf)\n",
    "\n",
    "    s.data['pos'] *= 1e3 # in kpc\n",
    "    s.data['mass'] *= 1e10 # change mass to solar masses\n",
    "    s.data['mclt'] *= 1e10\n",
    "    s.data['imcl'] *= 1e10\n",
    "\n",
    "    s.data['r'] = np.sqrt(np.sum((s.data['pos'])**2, axis=1))\n",
    "    \n",
    "    element = {'H':0, 'He':1, 'C':2, 'N':3, 'O':4, 'Ne':5, 'Mg':6, 'Si':7, 'Fe':8}\n",
    "    elementnum = {'H':1, 'He':4, 'C':12, 'N':14, 'O':16, 'Ne':20, 'Mg':24, 'Si':28, 'Fe':56}\n",
    "    #from Asplund et al. (2009) Table 5\n",
    "    SUNABUNDANCES = {'H':12.0, 'He':10.98, 'C':8.47, 'N':7.87, 'O':8.73, 'Ne':7.97, 'Mg':7.64, 'Si':7.55, 'Fe':7.54}\n",
    "    for iel,val in enumerate(element):\n",
    "        s.data[val+'/H'] = np.log10( s.data['gmet'][:, element[val]] / s.data['gmet'][:, element['H']] / elementnum[val] )\n",
    "        s.data[val+'/H'] -= (SUNABUNDANCES[val] - SUNABUNDANCES['H'])\n",
    "\n",
    "    mask_clusters_initial = (s.data['incl'] > 0 )\n",
    "    s.data['age_gyr'] = s.cosmology_get_lookback_time_from_a(s.data['age'], is_flat=True)\n",
    "\n",
    "    age_mask = (s.data['age_gyr']>age_cut) * (mask_clusters_initial)\n",
    "\n",
    "    rbins = np.logspace(-0.3, 2.3, nbins)\n",
    "    median_metallicity_distribution = []\n",
    "\n",
    "    for i in range(nbins-1):\n",
    "        mask = (s.data['r']>rbins[i]) * (s.data['r']<rbins[i+1]) * age_mask\n",
    "        median_metallicity_distribution.append(np.median(np.repeat(s.data['Fe/H'][mask] - 0.4,s.data['nclt'][mask])))\n",
    "        \n",
    "    return rbins, np.array(median_metallicity_distribution)"
   ]
  },
  {
   "cell_type": "code",
   "execution_count": 48,
   "metadata": {},
   "outputs": [
    {
     "name": "stdout",
     "output_type": "stream",
     "text": [
      "['Au6_lvl5_1b99_notshort_f3_5', 'Au6_lvl5_1b99_f3_5_r5hi', 'Au6_lvl5_1b99_f3', 'Au6_lvl5_1b99_shboostby10', 'Au6_lvl5_1b99_nokcfe_wmtrunc', 'Au6_lvl5_1b99_f1', 'Au23_lvl4_1b99_fiducial', 'Au23_lvl4_1b99_notshort_nokcfe', 'Au6_lvl5_1b99_f3_5_r3hi', 'Au6_lvl5_1b99_f2', 'Au6_lvl5_1b99_notshort_f2', 'Au6_lvl5_1b99_notshort_f1_2', 'Au6_lvl5_1b99_notshort_f1', 'Au6_lvl5_1b99_f3_5_r1hi']\n"
     ]
    }
   ],
   "source": [
    "simulation_list = [directory for directory in os.listdir('.') if '1b99' in directory]\n",
    "print(simulation_list)"
   ]
  },
  {
   "cell_type": "code",
   "execution_count": 91,
   "metadata": {},
   "outputs": [
    {
     "name": "stderr",
     "output_type": "stream",
     "text": [
      "/storage/home/can35/can35007/pylib/gadget_subfind.py:443: H5pyDeprecationWarning: Using astype() as a context manager is deprecated. Slice the returned object instead, like: ds.astype(np.int32)[:10]\n",
      "  with dset.astype('int64'):\n",
      "/storage/home/can35/can35007/pylib/gadget_snap.py:702: H5pyDeprecationWarning: Using astype() as a context manager is deprecated. Slice the returned object instead, like: ds.astype(np.int32)[:10]\n",
      "  with dset.astype('uint64'):\n"
     ]
    },
    {
     "name": "stdout",
     "output_type": "stream",
     "text": [
      "galrad= 0.02139289975166321\n",
      "Found 167521 stars.\n"
     ]
    },
    {
     "name": "stderr",
     "output_type": "stream",
     "text": [
      "/apps/PYTHON/3.7.4-Anaconda3-2019.10/lib/python3.7/site-packages/ipykernel_launcher.py:20: RuntimeWarning: divide by zero encountered in log10\n",
      "/apps/PYTHON/3.7.4-Anaconda3-2019.10/lib/python3.7/site-packages/ipykernel_launcher.py:20: RuntimeWarning: invalid value encountered in log10\n",
      "/storage/home/can35/can35007/pylib/cosmological_factors.py:100: RuntimeWarning: invalid value encountered in sqrt\n",
      "  var2 = np.sqrt(self.OmegaLambda / self.OmegaMatter * a**3.0)\n"
     ]
    },
    {
     "name": "stdout",
     "output_type": "stream",
     "text": [
      "galrad= 0.021284684538841248\n",
      "Found 147556 stars.\n"
     ]
    }
   ],
   "source": [
    "rbins, metallicity_profile_wkcfe = get_metallicity_functions(simulation_list[0], age_cut=6., nbins=10)\n",
    "rbins, metallicity_profile_nokcfe = get_metallicity_functions(simulation_list[4], age_cut=6., nbins=10)"
   ]
  },
  {
   "cell_type": "code",
   "execution_count": 87,
   "metadata": {},
   "outputs": [],
   "source": [
    "%matplotlib inline"
   ]
  },
  {
   "cell_type": "code",
   "execution_count": 88,
   "metadata": {},
   "outputs": [],
   "source": [
    "m31_metallicities = np.genfromtxt('catalogues_compare/Caldwell_dataonly.txt', usecols=8, delimiter=',')\n",
    "m31_rgc = np.genfromtxt('catalogues_compare/Caldwell_dataonly.txt', usecols=12, delimiter=',')\n",
    "m31_rgc = m31_rgc[~np.isnan(m31_metallicities)]\n",
    "m31_metallicities = m31_metallicities[~np.isnan(m31_metallicities)]\n",
    "\n",
    "mw_catalogue = np.genfromtxt('catalogues_compare/Harris_onlyphotometry.txt', usecols=(0,6,12), delimiter=',', skip_header=1)\n",
    "mw_metallicities = mw_catalogue[:,0]\n",
    "mw_rgc = mw_catalogue[:,2]\n",
    "mw_rgc = mw_rgc[~np.isnan(mw_metallicities)]\n",
    "mw_metallicities = mw_metallicities[~np.isnan(mw_metallicities)]\n",
    "\n",
    "m31_median_metalicity = []\n",
    "mw_median_metalicity = []\n",
    "for i in range(len(rbins)-1):\n",
    "    mask_m31 = (m31_rgc>rbins[i]) * (m31_rgc<rbins[i+1])\n",
    "    mask_mw = (mw_rgc>rbins[i]) * (mw_rgc<rbins[i+1])\n",
    "    m31_median_metalicity.append(np.mean(m31_metallicities[mask_m31]))\n",
    "\n",
    "    mw_median_metalicity.append(np.mean(mw_metallicities[mask_mw]))"
   ]
  },
  {
   "cell_type": "code",
   "execution_count": 92,
   "metadata": {},
   "outputs": [
    {
     "data": {
      "image/png": "[encoded data removed]",
      "text/plain": [
       "<Figure size 432x288 with 1 Axes>"
      ]
     },
     "metadata": {
      "needs_background": "light"
     },
     "output_type": "display_data"
    }
   ],
   "source": [
    "plt.plot((rbins[1:]+rbins[:-1])/2., metallicity_profile_wkcfe, label='Kruijssen_CFE')\n",
    "plt.plot((rbins[1:]+rbins[:-1])/2., metallicity_profile_nokcfe, label='Estimate_CFE')\n",
    "plt.plot((rbins[1:]+rbins[:-1])/2., m31_median_metalicity, label='M31')\n",
    "plt.plot((rbins[1:]+rbins[:-1])/2., mw_median_metalicity, label='MW')\n",
    "plt.xscale('log')\n",
    "plt.xlim(rbins[0], rbins[-1])\n",
    "plt.xlabel('Radius (kpc)')\n",
    "plt.ylabel('Median Metallicity [Fe/H]')\n",
    "plt.legend()\n",
    "plt.show()"
   ]
  }
 ],
 "metadata": {
  "kernelspec": {
   "display_name": "Python 3",
   "language": "python",
   "name": "python3"
  },
  "language_info": {
   "codemirror_mode": {
    "name": "ipython",
    "version": 3
   },
   "file_extension": ".py",
   "mimetype": "text/x-python",
   "name": "python",
   "nbconvert_exporter": "python",
   "pygments_lexer": "ipython3",
   "version": "3.7.4"
  }
 },
 "nbformat": 4,
 "nbformat_minor": 2
}
