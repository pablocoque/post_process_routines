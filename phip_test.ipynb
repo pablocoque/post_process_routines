{
 "cells": [
  {
   "cell_type": "code",
   "execution_count": 1,
   "metadata": {},
   "outputs": [],
   "source": [
    "import numpy as np\n",
    "import matplotlib.pyplot as plt"
   ]
  },
  {
   "cell_type": "code",
   "execution_count": 50,
   "metadata": {},
   "outputs": [],
   "source": [
    "N = 100\n",
    "L = 100.\n",
    "mgas = 1e3\n",
    "mstar = 1e2\n",
    "\n",
    "# Create random points in 2D\n",
    "x = np.random.rand(N) * L -L/2\n",
    "y = np.random.rand(N) * L -L/2\n",
    "\n",
    "# Create random velocities in 2D\n",
    "vx = np.random.rand(N) * 2 - 1\n",
    "vy = np.random.rand(N) * 2 - 1\n",
    "\n",
    "# dummy mask to indicate stars (30 percent of the particles)\n",
    "mask = np.random.choice([True, False], size=N, p=[0.3, 0.7])\n",
    "\n",
    "# constrain ngb radius\n",
    "r1 = 35.\n",
    "r2 = 50."
   ]
  },
  {
   "cell_type": "code",
   "execution_count": 51,
   "metadata": {},
   "outputs": [],
   "source": [
    "# Assuming position (0,0,0) and velocity (0,0,0) for reference\n",
    "veldisp_gas = ((vx[~mask]**2).sum() + (vy[~mask]**2).sum())/(N - mask.sum())\n",
    "veldisp_star = ((vx[mask]**2).sum() + (vy[mask]**2).sum())/mask.sum()\n",
    "fgas = mgas*(N - mask.sum()) / (mgas*(N - mask.sum()) + mstar*mask.sum())\n",
    "\n",
    "phiP_tot = 1.0 + veldisp_gas/veldisp_star * (1/fgas - 1)"
   ]
  },
  {
   "cell_type": "code",
   "execution_count": 54,
   "metadata": {},
   "outputs": [],
   "source": [
    "# Inside the radius r1\n",
    "mask1 = np.sqrt(x**2 + y**2) < r1\n",
    "veldisp_gas1 = ((vx[~mask * mask1]**2).sum() + (vy[~mask * mask1]**2).sum())/(mask1.sum() - (mask1*mask).sum())\n",
    "veldisp_star1 = ((vx[mask * mask1]**2).sum() + (vy[mask * mask1]**2).sum())/(mask1*mask).sum()\n",
    "fgas1 = mgas*(mask1.sum() - (mask1*mask).sum()) / (mgas*(mask1.sum() - (mask1*mask).sum()) + mstar*(mask1*mask).sum())\n",
    "\n",
    "phiP1 = veldisp_gas1/veldisp_star1 * (1/fgas1 - 1)\n",
    "\n",
    "# Outside the radius r1\n",
    "veldisp_gas2 = ((vx[~mask * ~mask1]**2).sum() + (vy[~mask * ~mask1]**2).sum())/((~mask1).sum() - (~mask1*mask).sum())\n",
    "veldisp_star2 = ((vx[mask * ~mask1]**2).sum() + (vy[mask * ~mask1]**2).sum())/(~mask1*mask).sum()\n",
    "fgas2 = mgas*((~mask1).sum() - (~mask1*mask).sum()) / (mgas*((~mask1).sum() - (~mask1*mask).sum()) + mstar*(~mask1*mask).sum())\n",
    "\n",
    "phiP2 = veldisp_gas2/veldisp_star2 * (1/fgas2 - 1)\n",
    "\n",
    "# Combine the two regions\n",
    "phiP_combined = 1.0 + phiP1 + phiP2\n",
    "phiP_averaged = 1.0 + (phiP1 + phiP2)/2."
   ]
  },
  {
   "cell_type": "code",
   "execution_count": 55,
   "metadata": {},
   "outputs": [
    {
     "name": "stdout",
     "output_type": "stream",
     "text": [
      "1.0334934436467291 1.0865113299202238 1.043255664960112\n"
     ]
    }
   ],
   "source": [
    "print(phiP_tot, phiP_combined, phiP_averaged)"
   ]
  },
  {
   "cell_type": "code",
   "execution_count": 57,
   "metadata": {},
   "outputs": [],
   "source": [
    "# Inside the radius r1\n",
    "mask1 = np.sqrt(x**2 + y**2) < r1\n",
    "veldisp_gas1 = ((vx[~mask * mask1]**2).sum() + (vy[~mask * mask1]**2).sum())/(mask1.sum() - (mask1*mask).sum())\n",
    "veldisp_star1 = ((vx[mask * mask1]**2).sum() + (vy[mask * mask1]**2).sum())/(mask1*mask).sum()\n",
    "fgas1 = mgas*(mask1.sum() - (mask1*mask).sum()) / (mgas*(mask1.sum() - (mask1*mask).sum()) + mstar*(mask1*mask).sum())\n",
    "\n",
    "phiP1 = veldisp_gas1/veldisp_star1 * (1/fgas1 - 1)\n",
    "\n",
    "# Outside the radius r2\n",
    "mask2 = np.sqrt(x**2 + y**2) > r2\n",
    "veldisp_gas2 = ((vx[~mask * mask2]**2).sum() + (vy[~mask * mask2]**2).sum())/((mask2).sum() - (mask2*mask).sum())\n",
    "veldisp_star2 = ((vx[mask * mask2]**2).sum() + (vy[mask * mask2]**2).sum())/(mask2*mask).sum()\n",
    "fgas2 = mgas*((mask2).sum() - (mask2*mask).sum()) / (mgas*((mask2).sum() - (mask2*mask).sum()) + mstar*(mask2*mask).sum())\n",
    "\n",
    "phiP2 = veldisp_gas2/veldisp_star2 * (1/fgas2 - 1)\n",
    "\n",
    "# Inner region\n",
    "mask3 = ~mask1 * ~mask2\n",
    "veldisp_gas3 = ((vx[~mask * mask3]**2).sum() + (vy[~mask * mask3]**2).sum())/((mask3).sum() - (mask3*mask).sum())\n",
    "veldisp_star3 = ((vx[mask * mask3]**2).sum() + (vy[mask * mask3]**2).sum())/(mask3*mask).sum()\n",
    "fgas3 = mgas*((mask3).sum() - (mask3*mask).sum()) / (mgas*((mask3).sum() - (mask3*mask).sum()) + mstar*(mask3*mask).sum())\n",
    "\n",
    "phiP3 = veldisp_gas3/veldisp_star3 * (1/fgas3 - 1)\n",
    "\n",
    "# Combine the two regions\n",
    "phiP_combined = 1.0 + phiP1 + phiP2 + phiP3\n",
    "phiP_averaged = 1.0 + (phiP1 + phiP2 + phiP3)/3."
   ]
  },
  {
   "cell_type": "code",
   "execution_count": 58,
   "metadata": {},
   "outputs": [
    {
     "name": "stdout",
     "output_type": "stream",
     "text": [
      "1.0334934436467291 1.1013479071596253 1.0337826357198752\n"
     ]
    }
   ],
   "source": [
    "print(phiP_tot, phiP_combined, phiP_averaged)"
   ]
  },
  {
   "cell_type": "code",
   "execution_count": null,
   "metadata": {},
   "outputs": [],
   "source": []
  }
 ],
 "metadata": {
  "kernelspec": {
   "display_name": "base",
   "language": "python",
   "name": "python3"
  },
  "language_info": {
   "codemirror_mode": {
    "name": "ipython",
    "version": 3
   },
   "file_extension": ".py",
   "mimetype": "text/x-python",
   "name": "python",
   "nbconvert_exporter": "python",
   "pygments_lexer": "ipython3",
   "version": "3.9.19"
  }
 },
 "nbformat": 4,
 "nbformat_minor": 2
}
