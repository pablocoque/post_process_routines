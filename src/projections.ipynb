{
 "cells": [
  {
   "cell_type": "code",
   "execution_count": null,
   "metadata": {
    "vscode": {
     "languageId": "plaintext"
    }
   },
   "outputs": [],
   "source": [
    "from loadmodules import *\n",
    "halo = 'halo_6'\n",
    "directory = '/virgotng/mpa/Auriga/level4/RerunsHighFreqStellarSnaps/'\n",
    "b = auriga_projection(mergertree=False)\n",
    "b.add_directory([directory], [halo])\n",
    "numthreads = 20\n",
    "res = 256\n",
    "boxsize = 0.05\n",
    "#projnames can include: stellarlight_projection, gas_density, dm_mass, stellar_mass, gas_metallicity (see projections.py for exhaustive list)\n",
    "projnames = [\"gas_density\"]\n",
    "outpath = ['./plots/']*len(projnames)\n",
    "redshift = [0.]\n",
    "b.make_projections( redshift, ncols=1, nrows=1, outpath=outpath, projnames=projnames, boxsize=boxsize, numthreads=numthreads, res=res, saveeverysnap=True )"
   ]
  }
 ],
 "metadata": {
  "language_info": {
   "name": "python"
  }
 },
 "nbformat": 4,
 "nbformat_minor": 2
}
